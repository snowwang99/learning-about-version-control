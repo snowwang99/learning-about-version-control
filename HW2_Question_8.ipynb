{
 "cells": [
  {
   "cell_type": "code",
   "execution_count": 1,
   "id": "7ff193af-4dbf-4780-b969-b24d8a2d15e2",
   "metadata": {},
   "outputs": [
    {
     "name": "stdout",
     "output_type": "stream",
     "text": [
      "[1] \"hello world\"\n"
     ]
    }
   ],
   "source": [
    "print(\"hello world\")"
   ]
  },
  {
   "cell_type": "markdown",
   "id": "4de94f7d-2cf4-4f11-92e4-187b23383a6e",
   "metadata": {},
   "source": [
    "This is Xue(Snow) Wang."
   ]
  },
  {
   "cell_type": "code",
   "execution_count": null,
   "id": "5791efcb-54d2-4139-bc0c-05de86da770d",
   "metadata": {},
   "outputs": [],
   "source": []
  }
 ],
 "metadata": {
  "kernelspec": {
   "display_name": "R",
   "language": "R",
   "name": "ir"
  },
  "language_info": {
   "codemirror_mode": "r",
   "file_extension": ".r",
   "mimetype": "text/x-r-source",
   "name": "R",
   "pygments_lexer": "r",
   "version": "4.1.2"
  }
 },
 "nbformat": 4,
 "nbformat_minor": 5
}
